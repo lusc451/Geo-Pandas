{
 "cells": [
  {
   "cell_type": "markdown",
   "metadata": {},
   "source": [
    "# Tratamento de dados utilizando GeoPandas    "
   ]
  },
  {
   "cell_type": "markdown",
   "metadata": {},
   "source": [
    "## 1. Bibliotecas que serão utilizadas"
   ]
  },
  {
   "cell_type": "code",
   "execution_count": 1,
   "metadata": {},
   "outputs": [],
   "source": [
    "import geopandas as gpd\n",
    "import matplotlib.pyplot as plt"
   ]
  },
  {
   "cell_type": "markdown",
   "metadata": {},
   "source": [
    "## 2. Dados espaciais\n",
    "\n",
    "Dados adiquiridos diretamente no site do IBGE, através do link https://www.ibge.gov.br/geociencias/organizacao-do-territorio/malhas-territoriais/15774-malhas.html?=&t=downloads"
   ]
  },
  {
   "cell_type": "markdown",
   "metadata": {},
   "source": [
    "## 3. Lendo arquivos\n",
    "Vamos para uma análise em python que consiste em carregar os dados. Para arquivos espaciais existem vários padrões de arquivos diferentes, como por exemplo: `Shapefile`, `GeoJSON`, `KML` e `GPKG`"
   ]
  },
  {
   "cell_type": "code",
   "execution_count": null,
   "metadata": {},
   "outputs": [],
   "source": [
    "#ler os dados com GeoPandas\n",
    "data = gpd.read_file('data/SP_Municipios_2022.shp')"
   ]
  },
  {
   "cell_type": "code",
   "execution_count": null,
   "metadata": {},
   "outputs": [],
   "source": [
    "type(data)"
   ]
  },
  {
   "cell_type": "markdown",
   "metadata": {},
   "source": [
    "Podemos ver que o tipo da variável é um `GeoDataFrame`. O objeto `GeoDataFrame` herda as funcionalidades do `pandas.DataFrame`."
   ]
  },
  {
   "cell_type": "code",
   "execution_count": null,
   "metadata": {},
   "outputs": [],
   "source": [
    "data.head(5)"
   ]
  },
  {
   "cell_type": "markdown",
   "metadata": {},
   "source": [
    "## 4. Visualizando os dados\n",
    "Quando usamos dados espaciais, uma boa ideia é explorar os dados utilizando um mapa. Criar um mapa simples de um `GeoDataFrame` é simples: Podemos utilizar a função `.plot()`, que cria um mapa baseado nas geometrias dos dados. Na verdade, o GeoPandas utiliza o `matplotlib` para criar os mapas."
   ]
  },
  {
   "cell_type": "code",
   "execution_count": null,
   "metadata": {},
   "outputs": [],
   "source": [
    "data.plot()"
   ]
  },
  {
   "cell_type": "markdown",
   "metadata": {},
   "source": [
    "Melhorando um pouco a visualização utilizando parâmetros do matplotlib"
   ]
  },
  {
   "cell_type": "code",
   "execution_count": null,
   "metadata": {},
   "outputs": [],
   "source": [
    "data.plot(figsize=(16, 14), facecolor='white', edgecolor='black')\n",
    "plt.show()"
   ]
  },
  {
   "cell_type": "markdown",
   "metadata": {},
   "source": [
    "## 5. Salvando os dados\n",
    "Uma vantagem do `GeoDataFrame` é a herança das funções do `Pandas`, utilizando as informações dos dados, podemos filtrar uma determinada região"
   ]
  },
  {
   "cell_type": "code",
   "execution_count": null,
   "metadata": {},
   "outputs": [],
   "source": [
    "# Filtrando somente a capital 'São Paulo'\n",
    "gdf_sp = data[data['NM_MUN'] == 'São Paulo']\n",
    "gdf_sp"
   ]
  },
  {
   "cell_type": "code",
   "execution_count": null,
   "metadata": {},
   "outputs": [],
   "source": [
    "# Vendo a região filtrada\n",
    "gdf_sp.plot(figsize=(8, 8), facecolor='white', edgecolor='black')\n",
    "plt.show()"
   ]
  },
  {
   "cell_type": "markdown",
   "metadata": {},
   "source": [
    "Para salvar os dados espaciais utilizando o `GeoPandas` também é bem simples.\n",
    "\n",
    "Para salvar apenas a região filtrada acima em um novo arquivo, podemos utilizar a função `to_file()` para salcar os arquivos, o GeoPandas utiliza o formato padrão `Shapefile` (.shp), mas também podemos salvar em outros formatos utilizando o parâmetro \"driver\". Nesse caso, vamos salvar no formato `GeoJSON`."
   ]
  },
  {
   "cell_type": "code",
   "execution_count": null,
   "metadata": {},
   "outputs": [],
   "source": [
    "# Salvando o GeoDataFrame como GeoJSON\n",
    "filename = 'data/capital_são_paulo.json'\n",
    "gdf_sp.to_file(filename, driver='GeoJSON')"
   ]
  },
  {
   "cell_type": "code",
   "execution_count": null,
   "metadata": {},
   "outputs": [],
   "source": [
    "# Lendo o GeoJSON criado\n",
    "gdf_sp = gpd.read_file(filename, driver='GeoJSON')\n",
    "gdf_sp"
   ]
  }
 ],
 "metadata": {
  "kernelspec": {
   "display_name": "base",
   "language": "python",
   "name": "python3"
  },
  "language_info": {
   "codemirror_mode": {
    "name": "ipython",
    "version": 3
   },
   "file_extension": ".py",
   "mimetype": "text/x-python",
   "name": "python",
   "nbconvert_exporter": "python",
   "pygments_lexer": "ipython3",
   "version": "3.11.7"
  }
 },
 "nbformat": 4,
 "nbformat_minor": 2
}
