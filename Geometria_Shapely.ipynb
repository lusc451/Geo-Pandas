{
 "cells": [
  {
   "cell_type": "markdown",
   "metadata": {},
   "source": [
    "# Utilizando a biblioteca Shapely para modelagem espacial dos dados"
   ]
  },
  {
   "cell_type": "markdown",
   "metadata": {},
   "source": [
    "## 1. Bibliotecas que serão utilizadas\n",
    "Os objetos geométricos fundamentais para trabalhar com os dados espaciais são: `Points`, `Lines` e `Polygons`. Em python, podemos utilizar da biblioteca `Shapely` para definir e realizar operações com os objetos geométricos."
   ]
  },
  {
   "cell_type": "code",
   "execution_count": null,
   "metadata": {
    "vscode": {
     "languageId": "plaintext"
    }
   },
   "outputs": [],
   "source": []
  }
 ],
 "metadata": {
  "language_info": {
   "name": "python"
  }
 },
 "nbformat": 4,
 "nbformat_minor": 2
}
