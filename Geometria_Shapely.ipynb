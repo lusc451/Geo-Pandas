{
 "cells": [
  {
   "cell_type": "markdown",
   "metadata": {},
   "source": [
    "# Utilizando a biblioteca Shapely para modelagem espacial dos dados"
   ]
  },
  {
   "cell_type": "markdown",
   "metadata": {},
   "source": [
    "## 1. Bibliotecas que serão utilizadas\n",
    "Os objetos geométricos fundamentais para trabalhar com os dados espaciais são: `Points`, `Lines` e `Polygons`. Em python, podemos utilizar da biblioteca `Shapely` para definir e realizar operações com os objetos geométricos."
   ]
  },
  {
   "cell_type": "code",
   "execution_count": 2,
   "metadata": {},
   "outputs": [],
   "source": [
    "# Importando os objetos geométricos da biblioteca Shapely\n",
    "from shapely.geometry import Point, LineString, Polygon"
   ]
  },
  {
   "cell_type": "code",
   "execution_count": 3,
   "metadata": {},
   "outputs": [],
   "source": [
    "# Criando uma geometria do tipo ponto\n",
    "ponto = Point(5, 10)"
   ]
  },
  {
   "cell_type": "code",
   "execution_count": 6,
   "metadata": {},
   "outputs": [
    {
     "data": {
      "image/svg+xml": [
       "<svg xmlns=\"http://www.w3.org/2000/svg\" xmlns:xlink=\"http://www.w3.org/1999/xlink\" width=\"100.0\" height=\"100.0\" viewBox=\"4.0 9.0 2.0 2.0\" preserveAspectRatio=\"xMinYMin meet\"><g transform=\"matrix(1,0,0,-1,0,20.0)\"><circle cx=\"5.0\" cy=\"10.0\" r=\"0.06\" stroke=\"#555555\" stroke-width=\"0.02\" fill=\"#66cc99\" opacity=\"0.6\" /></g></svg>"
      ],
      "text/plain": [
       "<POINT (5 10)>"
      ]
     },
     "execution_count": 6,
     "metadata": {},
     "output_type": "execute_result"
    }
   ],
   "source": [
    "ponto"
   ]
  },
  {
   "cell_type": "code",
   "execution_count": 7,
   "metadata": {},
   "outputs": [
    {
     "name": "stdout",
     "output_type": "stream",
     "text": [
      "POINT (5 10)\n"
     ]
    }
   ],
   "source": [
    "print(ponto)"
   ]
  },
  {
   "cell_type": "code",
   "execution_count": 5,
   "metadata": {},
   "outputs": [
    {
     "data": {
      "text/plain": [
       "shapely.geometry.point.Point"
      ]
     },
     "execution_count": 5,
     "metadata": {},
     "output_type": "execute_result"
    }
   ],
   "source": [
    "type(ponto)"
   ]
  },
  {
   "cell_type": "markdown",
   "metadata": {},
   "source": [
    "### *Ponto - Atributos e funções*\n",
    "\n",
    "Os objetos do tipo `Point` já possuem atributos e funções internas para realizar operações básicas. Uma das funções mais simples é a capacidade de extrair as coordenadas e a possibilidade de calcular a distância entre dois pontos.\n",
    "\n",
    "Podemos obter as coordenadas x e y de diferentes maneiras:"
   ]
  },
  {
   "cell_type": "code",
   "execution_count": 9,
   "metadata": {},
   "outputs": [
    {
     "data": {
      "text/plain": [
       "[(5.0, 10.0)]"
      ]
     },
     "execution_count": 9,
     "metadata": {},
     "output_type": "execute_result"
    }
   ],
   "source": [
    "# Utilizando a função coords\n",
    "list(ponto.coords)"
   ]
  },
  {
   "cell_type": "code",
   "execution_count": 10,
   "metadata": {},
   "outputs": [
    {
     "name": "stdout",
     "output_type": "stream",
     "text": [
      "5.0 10.0\n"
     ]
    }
   ],
   "source": [
    "# Lendo x e y separadamente\n",
    "x = ponto.x\n",
    "y = ponto.y\n",
    "\n",
    "print(x, y)"
   ]
  },
  {
   "cell_type": "code",
   "execution_count": 11,
   "metadata": {},
   "outputs": [
    {
     "name": "stdout",
     "output_type": "stream",
     "text": [
      "Dinstância entre os pontos:  5.0\n"
     ]
    }
   ],
   "source": [
    "# Calculando a distância entre dois pontos\n",
    "ponto1 = Point(2,3)\n",
    "ponto2 = Point(5,7)\n",
    "\n",
    "distancia = ponto1.distance(ponto2)\n",
    "\n",
    "print(\"Dinstância entre os pontos: \", distancia)"
   ]
  },
  {
   "cell_type": "markdown",
   "metadata": {},
   "source": [
    "### *Linha (LineString)*\n",
    "\n",
    "Criar um objeto `LineString` é similar a criação de um objeto `Point`.\n",
    "\n",
    "Agora, em vez de utilizar uma única tupla de coordenadas, podemos construir uma linha utilizando uma lista de `Point` ou um vetor de tuplas com as respectivas coordenadas:"
   ]
  },
  {
   "cell_type": "code",
   "execution_count": 12,
   "metadata": {},
   "outputs": [],
   "source": [
    "# Criando uma linha a partir de objetos pontos\n",
    "ponto1 = Point(2,3)\n",
    "ponto2 = Point(5,7)\n",
    "ponto3 = Point(2,10)\n",
    "\n",
    "linha = LineString([ponto1, ponto2, ponto3])"
   ]
  },
  {
   "cell_type": "markdown",
   "metadata": {},
   "source": [
    "Vamos ver como a variável do tipo `LineString` é mostrada no jupyter:"
   ]
  },
  {
   "cell_type": "code",
   "execution_count": 13,
   "metadata": {},
   "outputs": [
    {
     "data": {
      "image/svg+xml": [
       "<svg xmlns=\"http://www.w3.org/2000/svg\" xmlns:xlink=\"http://www.w3.org/1999/xlink\" width=\"100.0\" height=\"100.0\" viewBox=\"1.72 2.7199999999999998 3.5600000000000005 7.56\" preserveAspectRatio=\"xMinYMin meet\"><g transform=\"matrix(1,0,0,-1,0,13.0)\"><polyline fill=\"none\" stroke=\"#66cc99\" stroke-width=\"0.1512\" points=\"2.0,3.0 5.0,7.0 2.0,10.0\" opacity=\"0.8\" /></g></svg>"
      ],
      "text/plain": [
       "<LINESTRING (2 3, 5 7, 2 10)>"
      ]
     },
     "execution_count": 13,
     "metadata": {},
     "output_type": "execute_result"
    }
   ],
   "source": [
    "linha"
   ]
  },
  {
   "cell_type": "markdown",
   "metadata": {},
   "source": [
    "Vamos imprimir e ver o tipo do objeto para ver a sua definição:"
   ]
  },
  {
   "cell_type": "code",
   "execution_count": 14,
   "metadata": {},
   "outputs": [
    {
     "name": "stdout",
     "output_type": "stream",
     "text": [
      "LINESTRING (2 3, 5 7, 2 10)\n"
     ]
    }
   ],
   "source": [
    "print(linha)"
   ]
  },
  {
   "cell_type": "code",
   "execution_count": 15,
   "metadata": {},
   "outputs": [
    {
     "data": {
      "text/plain": [
       "shapely.geometry.linestring.LineString"
      ]
     },
     "execution_count": 15,
     "metadata": {},
     "output_type": "execute_result"
    }
   ],
   "source": [
    "type(linha)"
   ]
  },
  {
   "cell_type": "markdown",
   "metadata": {},
   "source": [
    "### *Linha - Atributos e funções*\n",
    "\n",
    "O objeto `LineString` possui diversos atributos e funções internas. Algumas operações possíveis com o objeto do tipo linha:\n",
    "- Extrair as coordenadas;\n",
    "- Calcular o tamanho da linha;\n",
    "- Calcular o ponto médio (centróide)."
   ]
  },
  {
   "cell_type": "code",
   "execution_count": 16,
   "metadata": {},
   "outputs": [
    {
     "data": {
      "text/plain": [
       "[(2.0, 3.0), (5.0, 7.0), (2.0, 10.0)]"
      ]
     },
     "execution_count": 16,
     "metadata": {},
     "output_type": "execute_result"
    }
   ],
   "source": [
    "# Utilizando a função coords\n",
    "list(linha.coords)"
   ]
  },
  {
   "cell_type": "code",
   "execution_count": 18,
   "metadata": {},
   "outputs": [
    {
     "name": "stdout",
     "output_type": "stream",
     "text": [
      "Coordenadas x:  [2.0, 5.0, 2.0]\n",
      "Coordenadas y:  [3.0, 7.0, 10.0]\n"
     ]
    }
   ],
   "source": [
    "# Lendo x e y separadamente\n",
    "coordenadas_x = list(linha.xy[0])\n",
    "coordenadas_y = list(linha.xy[1])\n",
    "\n",
    "print(\"Coordenadas x: \", coordenadas_x)\n",
    "print(\"Coordenadas y: \", coordenadas_y)"
   ]
  },
  {
   "cell_type": "code",
   "execution_count": 19,
   "metadata": {},
   "outputs": [
    {
     "data": {
      "text/plain": [
       "9.242640687119284"
      ]
     },
     "execution_count": 19,
     "metadata": {},
     "output_type": "execute_result"
    }
   ],
   "source": [
    "# Ler o comprimento da linha\n",
    "linha.length"
   ]
  },
  {
   "cell_type": "code",
   "execution_count": 21,
   "metadata": {},
   "outputs": [
    {
     "name": "stdout",
     "output_type": "stream",
     "text": [
      "POINT (3.5 6.606601717798214)\n"
     ]
    }
   ],
   "source": [
    "# Obtendo o ponto central (centróide)\n",
    "print(linha.centroid)"
   ]
  },
  {
   "cell_type": "markdown",
   "metadata": {},
   "source": [
    "### *Polígono (Polygon)*\n",
    "\n",
    "Podemos criar um objeto `Polygon` usando a mesma lógica do `Point` e `LineString`, porém a criação do objeto `Polygon` só aceita uma sequência de coordenadas.\n",
    "\n",
    "Para criar um polígono, são necessárias **pelo menos três coordenadas**"
   ]
  },
  {
   "cell_type": "code",
   "execution_count": 23,
   "metadata": {},
   "outputs": [],
   "source": [
    "# Criando um Polygon passando as coordenadas\n",
    "poly = Polygon([(2,3), (5,7), (2, 10)])"
   ]
  },
  {
   "cell_type": "markdown",
   "metadata": {},
   "source": [
    "Vamos ver como a variável do tipo `Polygon` é mostrada no jupyter:"
   ]
  },
  {
   "cell_type": "code",
   "execution_count": 24,
   "metadata": {},
   "outputs": [
    {
     "data": {
      "image/svg+xml": [
       "<svg xmlns=\"http://www.w3.org/2000/svg\" xmlns:xlink=\"http://www.w3.org/1999/xlink\" width=\"100.0\" height=\"100.0\" viewBox=\"1.72 2.7199999999999998 3.5600000000000005 7.56\" preserveAspectRatio=\"xMinYMin meet\"><g transform=\"matrix(1,0,0,-1,0,13.0)\"><path fill-rule=\"evenodd\" fill=\"#66cc99\" stroke=\"#555555\" stroke-width=\"0.1512\" opacity=\"0.6\" d=\"M 2.0,3.0 L 5.0,7.0 L 2.0,10.0 L 2.0,3.0 z\" /></g></svg>"
      ],
      "text/plain": [
       "<POLYGON ((2 3, 5 7, 2 10, 2 3))>"
      ]
     },
     "execution_count": 24,
     "metadata": {},
     "output_type": "execute_result"
    }
   ],
   "source": [
    "poly"
   ]
  },
  {
   "cell_type": "markdown",
   "metadata": {},
   "source": [
    "Vamos imprimir e ver o tipo do objeto e ver a sua definição:"
   ]
  },
  {
   "cell_type": "code",
   "execution_count": 25,
   "metadata": {},
   "outputs": [
    {
     "name": "stdout",
     "output_type": "stream",
     "text": [
      "POLYGON ((2 3, 5 7, 2 10, 2 3))\n"
     ]
    }
   ],
   "source": [
    "print(poly)"
   ]
  },
  {
   "cell_type": "code",
   "execution_count": 26,
   "metadata": {},
   "outputs": [
    {
     "data": {
      "text/plain": [
       "shapely.geometry.polygon.Polygon"
      ]
     },
     "execution_count": 26,
     "metadata": {},
     "output_type": "execute_result"
    }
   ],
   "source": [
    "type(poly)"
   ]
  },
  {
   "cell_type": "markdown",
   "metadata": {},
   "source": [
    "### *Polígonos - Atributos e funções*\n",
    "\n",
    "Podemos acessar diferentes funções diretamente do objeto `Polygon`, que são úteis para muitas tarefas e análises, como: obter área, centróide, *bounding box*, o exterior e o perímetro (tamanho exterior)."
   ]
  },
  {
   "cell_type": "code",
   "execution_count": 28,
   "metadata": {},
   "outputs": [
    {
     "data": {
      "text/plain": [
       "[(2.0, 3.0), (5.0, 7.0), (2.0, 10.0), (2.0, 3.0)]"
      ]
     },
     "execution_count": 28,
     "metadata": {},
     "output_type": "execute_result"
    }
   ],
   "source": [
    "# Obtendo as coordenadas do polígono\n",
    "list(poly.exterior.coords)"
   ]
  },
  {
   "cell_type": "code",
   "execution_count": 29,
   "metadata": {},
   "outputs": [
    {
     "name": "stdout",
     "output_type": "stream",
     "text": [
      "Área:  10.5\n"
     ]
    }
   ],
   "source": [
    "# Calculando a área\n",
    "poly_area = poly.area\n",
    "\n",
    "print(\"Área: \", poly_area)"
   ]
  },
  {
   "cell_type": "code",
   "execution_count": 30,
   "metadata": {},
   "outputs": [
    {
     "name": "stdout",
     "output_type": "stream",
     "text": [
      "Centróide:  POINT (3 6.666666666666667)\n"
     ]
    }
   ],
   "source": [
    "# Obtendo o centróide do polígono\n",
    "poly_centroid = poly.centroid\n",
    "\n",
    "print(\"Centróide: \", poly_centroid)"
   ]
  },
  {
   "cell_type": "code",
   "execution_count": 31,
   "metadata": {},
   "outputs": [
    {
     "data": {
      "text/plain": [
       "(2.0, 3.0, 5.0, 10.0)"
      ]
     },
     "execution_count": 31,
     "metadata": {},
     "output_type": "execute_result"
    }
   ],
   "source": [
    "# Obtendo as coordenadas do bounding box\n",
    "poly.bounds"
   ]
  },
  {
   "cell_type": "code",
   "execution_count": 33,
   "metadata": {},
   "outputs": [
    {
     "name": "stdout",
     "output_type": "stream",
     "text": [
      "Exterior:  LINEARRING (2 3, 5 7, 2 10, 2 3)\n"
     ]
    }
   ],
   "source": [
    "# Obtendo as coordenadas da linha exterior\n",
    "poly_exterior = poly.exterior\n",
    "\n",
    "print(\"Exterior: \", poly_exterior)"
   ]
  },
  {
   "cell_type": "code",
   "execution_count": 35,
   "metadata": {},
   "outputs": [
    {
     "name": "stdout",
     "output_type": "stream",
     "text": [
      "Comprimento exterior:  16.242640687119284\n"
     ]
    }
   ],
   "source": [
    "# Obtendo o tamanho da linha exterior\n",
    "poly_exterior_lenght = poly.exterior.length\n",
    "\n",
    "print(\"Comprimento exterior: \", poly_exterior_lenght)"
   ]
  },
  {
   "cell_type": "markdown",
   "metadata": {},
   "source": [
    "## 2. Operações básicas entre geometrias"
   ]
  },
  {
   "cell_type": "code",
   "execution_count": 38,
   "metadata": {},
   "outputs": [
    {
     "data": {
      "text/plain": [
       "shapely.geometry.polygon.Polygon"
      ]
     },
     "execution_count": 38,
     "metadata": {},
     "output_type": "execute_result"
    }
   ],
   "source": [
    "# Criando dois círculos\n",
    "circulo1 = Point(1,1).buffer(1)\n",
    "circulo2 = Point(2,1).buffer(1)\n",
    "\n",
    "type(circulo2)"
   ]
  },
  {
   "cell_type": "markdown",
   "metadata": {},
   "source": [
    "Vamos mostrar os dois círculos utilizando a biblioteca `matplotlib`."
   ]
  },
  {
   "cell_type": "code",
   "execution_count": 39,
   "metadata": {},
   "outputs": [],
   "source": [
    "# Importando a blblioteca matplotlib\n",
    "import matplotlib.pyplot as plt"
   ]
  },
  {
   "cell_type": "code",
   "execution_count": 41,
   "metadata": {},
   "outputs": [
    {
     "data": {
      "image/png": "[encoded data removed]",
      "text/plain": [
       "<Figure size 640x480 with 1 Axes>"
      ]
     },
     "metadata": {},
     "output_type": "display_data"
    }
   ],
   "source": [
    "# Plotar o círculo 1\n",
    "x, y = circulo1.exterior.xy\n",
    "plt.plot(x,y)\n",
    "\n",
    "x, y = circulo2.exterior.xy\n",
    "plt.plot(x,y)\n",
    "\n",
    "plt.show()"
   ]
  },
  {
   "cell_type": "code",
   "execution_count": 42,
   "metadata": {},
   "outputs": [
    {
     "data": {
      "image/svg+xml": [
       "<svg xmlns=\"http://www.w3.org/2000/svg\" xmlns:xlink=\"http://www.w3.org/1999/xlink\" width=\"100.0\" height=\"100.0\" viewBox=\"0.9308178297460941 0.0660407015722697 1.138364340507812 1.8679185968554608\" preserveAspectRatio=\"xMinYMin meet\"><g transform=\"matrix(1,0,0,-1,0,2.0)\"><path fill-rule=\"evenodd\" fill=\"#66cc99\" stroke=\"#555555\" stroke-width=\"0.03735837193710922\" opacity=\"0.6\" d=\"M 2.0,1.0 L 1.995184726672197,0.9019828596704395 L 1.9807852804032304,0.8049096779838719 L 1.956940335732209,0.709715322745538 L 1.923879532511287,0.6173165676349106 L 1.8819212643483554,0.5286032631740027 L 1.8314696123025456,0.44442976698039827 L 1.7730104533627373,0.36560671583635507 L 1.7071067811865481,0.2928932188134531 L 1.6343932841636462,0.22698954663726367 L 1.555570233019603,0.16853038769745532 L 1.5,0.13522287182617565 L 1.4444297669803996,0.16853038769745365 L 1.365606715836356,0.22698954663726179 L 1.2928932188134539,0.2928932188134511 L 1.226989546637264,0.3656067158363532 L 1.1685303876974555,0.4444297669803964 L 1.1180787356516457,0.528603263174001 L 1.076120467488714,0.6173165676349088 L 1.0430596642677914,0.7097153227455364 L 1.0192147195967698,0.8049096779838705 L 1.0048152733278033,0.9019828596704382 L 1.0,0.999999999999999 L 1.004815273327803,1.0980171403295598 L 1.0192147195967693,1.1950903220161275 L 1.043059664267791,1.2902846772544616 L 1.076120467488713,1.3826834323650892 L 1.1180787356516446,1.4713967368259973 L 1.1685303876974547,1.555570233019602 L 1.226989546637263,1.6343932841636453 L 1.2928932188134523,1.7071067811865475 L 1.365606715836354,1.7730104533627367 L 1.444429766980397,1.831469612302545 L 1.4999999999999998,1.8647771281738246 L 1.5555702330195982,1.831469612302548 L 1.6343932841636415,1.7730104533627402 L 1.7071067811865435,1.7071067811865515 L 1.7730104533627333,1.6343932841636502 L 1.8314696123025418,1.5555702330196075 L 1.8819212643483518,1.4713967368260035 L 1.923879532511284,1.3826834323650963 L 1.9569403357322068,1.2902846772544692 L 1.980785280403229,1.1950903220161357 L 1.9951847266721963,1.0980171403295684 L 2.0,1.0000000000000082 L 2.0,1.0 z\" /></g></svg>"
      ],
      "text/plain": [
       "<POLYGON ((2 1, 2 0.902, 1.98 0.805, 1.96 0.71, 1.92 0.617, 1.88 0.529, 1.83...>"
      ]
     },
     "execution_count": 42,
     "metadata": {},
     "output_type": "execute_result"
    }
   ],
   "source": [
    "# Operação de interseção\n",
    "circulo_inter = circulo1.intersection(circulo2)\n",
    "\n",
    "circulo_inter"
   ]
  },
  {
   "cell_type": "code",
   "execution_count": 43,
   "metadata": {},
   "outputs": [
    {
     "data": {
      "image/svg+xml": [
       "<svg xmlns=\"http://www.w3.org/2000/svg\" xmlns:xlink=\"http://www.w3.org/1999/xlink\" width=\"100.0\" height=\"100.0\" viewBox=\"-0.12 -0.12 3.24 2.24\" preserveAspectRatio=\"xMinYMin meet\"><g transform=\"matrix(1,0,0,-1,0,2.0)\"><path fill-rule=\"evenodd\" fill=\"#66cc99\" stroke=\"#555555\" stroke-width=\"0.06480000000000001\" opacity=\"0.6\" d=\"M 1.5,0.13522287182617565 L 1.4713967368259986,0.1180787356516455 L 1.382683432365091,0.0761204674887137 L 1.2902846772544636,0.04305966426779151 L 1.1950903220161297,0.01921471959676979 L 1.098017140329562,0.004815273327803293 L 1.0000000000000016,0.0 L 0.9019828596704411,0.00481527332780296 L 0.8049096779838736,0.019214719596769236 L 0.7097153227455395,0.04305966426779051 L 0.6173165676349122,0.07612046748871248 L 0.5286032631740043,0.11807873565164395 L 0.4444297669803995,0.16853038769745365 L 0.36560671583635607,0.22698954663726179 L 0.29289321881345376,0.2928932188134511 L 0.22698954663726412,0.3656067158363532 L 0.16853038769745565,0.4444297669803964 L 0.11807873565164573,0.528603263174001 L 0.07612046748871382,0.6173165676349088 L 0.04305966426779151,0.7097153227455364 L 0.01921471959676979,0.8049096779838705 L 0.004815273327803182,0.9019828596704382 L 0.0,0.999999999999999 L 0.004815273327803071,1.0980171403295598 L 0.019214719596769347,1.1950903220161275 L 0.043059664267790954,1.2902846772544616 L 0.07612046748871304,1.3826834323650892 L 0.11807873565164473,1.4713967368259973 L 0.16853038769745454,1.555570233019602 L 0.2269895466372629,1.6343932841636453 L 0.2928932188134523,1.7071067811865475 L 0.36560671583635407,1.7730104533627367 L 0.44442976698039705,1.831469612302545 L 0.5286032631740013,1.8819212643483545 L 0.6173165676349088,1.923879532511286 L 0.709715322745536,1.9569403357322084 L 0.8049096779838696,1.98078528040323 L 0.9019828596704369,1.9951847266721967 L 0.9999999999999971,2.0 L 1.0980171403295573,1.9951847266721972 L 1.1950903220161249,1.980785280403231 L 1.2902846772544587,1.95694033573221 L 1.3826834323650858,1.9238795325112883 L 1.4713967368259937,1.8819212643483572 L 1.4999999999999998,1.8647771281738246 L 1.5286032631740012,1.8819212643483545 L 1.6173165676349088,1.923879532511286 L 1.709715322745536,1.9569403357322084 L 1.8049096779838696,1.98078528040323 L 1.901982859670437,1.9951847266721967 L 1.9999999999999971,2.0 L 2.0980171403295573,1.9951847266721972 L 2.195090322016125,1.980785280403231 L 2.2902846772544585,1.95694033573221 L 2.382683432365086,1.9238795325112883 L 2.4713967368259935,1.8819212643483572 L 2.555570233019598,1.831469612302548 L 2.6343932841636413,1.7730104533627402 L 2.7071067811865435,1.7071067811865515 L 2.7730104533627333,1.6343932841636502 L 2.831469612302542,1.5555702330196075 L 2.881921264348352,1.4713967368260035 L 2.9238795325112843,1.3826834323650963 L 2.956940335732207,1.2902846772544692 L 2.980785280403229,1.1950903220161357 L 2.9951847266721963,1.0980171403295684 L 3.0,1.0000000000000082 L 3.0,1.0 L 2.995184726672197,0.9019828596704395 L 2.9807852804032304,0.8049096779838719 L 2.956940335732209,0.709715322745538 L 2.923879532511287,0.6173165676349106 L 2.8819212643483554,0.5286032631740027 L 2.831469612302546,0.44442976698039827 L 2.7730104533627373,0.36560671583635507 L 2.707106781186548,0.2928932188134531 L 2.634393284163646,0.22698954663726367 L 2.555570233019603,0.16853038769745532 L 2.471396736825999,0.1180787356516455 L 2.382683432365091,0.0761204674887137 L 2.290284677254464,0.04305966426779151 L 2.1950903220161297,0.01921471959676979 L 2.098017140329562,0.004815273327803293 L 2.0000000000000018,0.0 L 1.9019828596704411,0.00481527332780296 L 1.8049096779838736,0.019214719596769236 L 1.7097153227455395,0.04305966426779051 L 1.6173165676349122,0.07612046748871248 L 1.5286032631740043,0.11807873565164395 L 1.5,0.13522287182617565 z\" /></g></svg>"
      ],
      "text/plain": [
       "<POLYGON ((1.5 0.135, 1.47 0.118, 1.38 0.0761, 1.29 0.0431, 1.2 0.0192, 1.1 ...>"
      ]
     },
     "execution_count": 43,
     "metadata": {},
     "output_type": "execute_result"
    }
   ],
   "source": [
    "#Operação de união\n",
    "circulo_union = circulo1.union(circulo2)\n",
    "\n",
    "circulo_union"
   ]
  },
  {
   "cell_type": "code",
   "execution_count": 44,
   "metadata": {},
   "outputs": [
    {
     "data": {
      "image/svg+xml": [
       "<svg xmlns=\"http://www.w3.org/2000/svg\" xmlns:xlink=\"http://www.w3.org/1999/xlink\" width=\"100.0\" height=\"100.0\" viewBox=\"-0.08 -0.08 1.6600000000000001 2.16\" preserveAspectRatio=\"xMinYMin meet\"><g transform=\"matrix(1,0,0,-1,0,2.0)\"><path fill-rule=\"evenodd\" fill=\"#66cc99\" stroke=\"#555555\" stroke-width=\"0.0432\" opacity=\"0.6\" d=\"M 1.5,0.13522287182617565 L 1.4713967368259986,0.1180787356516455 L 1.382683432365091,0.0761204674887137 L 1.2902846772544636,0.04305966426779151 L 1.1950903220161297,0.01921471959676979 L 1.098017140329562,0.004815273327803293 L 1.0000000000000016,0.0 L 0.9019828596704411,0.00481527332780296 L 0.8049096779838736,0.019214719596769236 L 0.7097153227455395,0.04305966426779051 L 0.6173165676349122,0.07612046748871248 L 0.5286032631740043,0.11807873565164395 L 0.4444297669803995,0.16853038769745365 L 0.36560671583635607,0.22698954663726179 L 0.29289321881345376,0.2928932188134511 L 0.22698954663726412,0.3656067158363532 L 0.16853038769745565,0.4444297669803964 L 0.11807873565164573,0.528603263174001 L 0.07612046748871382,0.6173165676349088 L 0.04305966426779151,0.7097153227455364 L 0.01921471959676979,0.8049096779838705 L 0.004815273327803182,0.9019828596704382 L 0.0,0.999999999999999 L 0.004815273327803071,1.0980171403295598 L 0.019214719596769347,1.1950903220161275 L 0.043059664267790954,1.2902846772544616 L 0.07612046748871304,1.3826834323650892 L 0.11807873565164473,1.4713967368259973 L 0.16853038769745454,1.555570233019602 L 0.2269895466372629,1.6343932841636453 L 0.2928932188134523,1.7071067811865475 L 0.36560671583635407,1.7730104533627367 L 0.44442976698039705,1.831469612302545 L 0.5286032631740013,1.8819212643483545 L 0.6173165676349088,1.923879532511286 L 0.709715322745536,1.9569403357322084 L 0.8049096779838696,1.98078528040323 L 0.9019828596704369,1.9951847266721967 L 0.9999999999999971,2.0 L 1.0980171403295573,1.9951847266721972 L 1.1950903220161249,1.980785280403231 L 1.2902846772544587,1.95694033573221 L 1.3826834323650858,1.9238795325112883 L 1.4713967368259937,1.8819212643483572 L 1.4999999999999998,1.8647771281738246 L 1.444429766980397,1.831469612302545 L 1.365606715836354,1.7730104533627367 L 1.2928932188134523,1.7071067811865475 L 1.226989546637263,1.6343932841636453 L 1.1685303876974547,1.555570233019602 L 1.1180787356516446,1.4713967368259973 L 1.076120467488713,1.3826834323650892 L 1.043059664267791,1.2902846772544616 L 1.0192147195967693,1.1950903220161275 L 1.004815273327803,1.0980171403295598 L 1.0,0.999999999999999 L 1.0048152733278033,0.9019828596704382 L 1.0192147195967698,0.8049096779838705 L 1.0430596642677914,0.7097153227455364 L 1.076120467488714,0.6173165676349088 L 1.1180787356516457,0.528603263174001 L 1.1685303876974555,0.4444297669803964 L 1.226989546637264,0.3656067158363532 L 1.2928932188134539,0.2928932188134511 L 1.365606715836356,0.22698954663726179 L 1.4444297669803996,0.16853038769745365 L 1.5,0.13522287182617565 z\" /></g></svg>"
      ],
      "text/plain": [
       "<POLYGON ((1.5 0.135, 1.47 0.118, 1.38 0.0761, 1.29 0.0431, 1.2 0.0192, 1.1 ...>"
      ]
     },
     "execution_count": 44,
     "metadata": {},
     "output_type": "execute_result"
    }
   ],
   "source": [
    "# Operação de diferença\n",
    "circulo_diff_1 = circulo1.difference(circulo2)\n",
    "\n",
    "circulo_diff_1"
   ]
  },
  {
   "cell_type": "code",
   "execution_count": 45,
   "metadata": {},
   "outputs": [
    {
     "data": {
      "image/svg+xml": [
       "<svg xmlns=\"http://www.w3.org/2000/svg\" xmlns:xlink=\"http://www.w3.org/1999/xlink\" width=\"100.0\" height=\"100.0\" viewBox=\"1.4199999999999997 -0.08 1.6600000000000004 2.16\" preserveAspectRatio=\"xMinYMin meet\"><g transform=\"matrix(1,0,0,-1,0,2.0)\"><path fill-rule=\"evenodd\" fill=\"#66cc99\" stroke=\"#555555\" stroke-width=\"0.0432\" opacity=\"0.6\" d=\"M 3.0,1.0 L 2.995184726672197,0.9019828596704395 L 2.9807852804032304,0.8049096779838719 L 2.956940335732209,0.709715322745538 L 2.923879532511287,0.6173165676349106 L 2.8819212643483554,0.5286032631740027 L 2.831469612302546,0.44442976698039827 L 2.7730104533627373,0.36560671583635507 L 2.707106781186548,0.2928932188134531 L 2.634393284163646,0.22698954663726367 L 2.555570233019603,0.16853038769745532 L 2.471396736825999,0.1180787356516455 L 2.382683432365091,0.0761204674887137 L 2.290284677254464,0.04305966426779151 L 2.1950903220161297,0.01921471959676979 L 2.098017140329562,0.004815273327803293 L 2.0000000000000018,0.0 L 1.9019828596704411,0.00481527332780296 L 1.8049096779838736,0.019214719596769236 L 1.7097153227455395,0.04305966426779051 L 1.6173165676349122,0.07612046748871248 L 1.5286032631740043,0.11807873565164395 L 1.5,0.13522287182617565 L 1.555570233019603,0.16853038769745532 L 1.6343932841636462,0.22698954663726367 L 1.7071067811865481,0.2928932188134531 L 1.7730104533627373,0.36560671583635507 L 1.8314696123025456,0.44442976698039827 L 1.8819212643483554,0.5286032631740027 L 1.923879532511287,0.6173165676349106 L 1.956940335732209,0.709715322745538 L 1.9807852804032304,0.8049096779838719 L 1.995184726672197,0.9019828596704395 L 2.0,1.0 L 2.0,1.0000000000000082 L 1.9951847266721963,1.0980171403295684 L 1.980785280403229,1.1950903220161357 L 1.9569403357322068,1.2902846772544692 L 1.923879532511284,1.3826834323650963 L 1.8819212643483518,1.4713967368260035 L 1.8314696123025418,1.5555702330196075 L 1.7730104533627333,1.6343932841636502 L 1.7071067811865435,1.7071067811865515 L 1.6343932841636415,1.7730104533627402 L 1.5555702330195982,1.831469612302548 L 1.4999999999999998,1.8647771281738246 L 1.5286032631740012,1.8819212643483545 L 1.6173165676349088,1.923879532511286 L 1.709715322745536,1.9569403357322084 L 1.8049096779838696,1.98078528040323 L 1.901982859670437,1.9951847266721967 L 1.9999999999999971,2.0 L 2.0980171403295573,1.9951847266721972 L 2.195090322016125,1.980785280403231 L 2.2902846772544585,1.95694033573221 L 2.382683432365086,1.9238795325112883 L 2.4713967368259935,1.8819212643483572 L 2.555570233019598,1.831469612302548 L 2.6343932841636413,1.7730104533627402 L 2.7071067811865435,1.7071067811865515 L 2.7730104533627333,1.6343932841636502 L 2.831469612302542,1.5555702330196075 L 2.881921264348352,1.4713967368260035 L 2.9238795325112843,1.3826834323650963 L 2.956940335732207,1.2902846772544692 L 2.980785280403229,1.1950903220161357 L 2.9951847266721963,1.0980171403295684 L 3.0,1.0000000000000082 L 3.0,1.0 z\" /></g></svg>"
      ],
      "text/plain": [
       "<POLYGON ((3 1, 3 0.902, 2.98 0.805, 2.96 0.71, 2.92 0.617, 2.88 0.529, 2.83...>"
      ]
     },
     "execution_count": 45,
     "metadata": {},
     "output_type": "execute_result"
    }
   ],
   "source": [
    "circulo_diff_2 = circulo2.difference(circulo1)\n",
    "circulo_diff_2"
   ]
  },
  {
   "cell_type": "code",
   "execution_count": 46,
   "metadata": {},
   "outputs": [
    {
     "data": {
      "image/svg+xml": [
       "<svg xmlns=\"http://www.w3.org/2000/svg\" xmlns:xlink=\"http://www.w3.org/1999/xlink\" width=\"100.0\" height=\"100.0\" viewBox=\"-0.12 -0.12 3.24 2.24\" preserveAspectRatio=\"xMinYMin meet\"><g transform=\"matrix(1,0,0,-1,0,2.0)\"><g><path fill-rule=\"evenodd\" fill=\"#66cc99\" stroke=\"#555555\" stroke-width=\"0.06480000000000001\" opacity=\"0.6\" d=\"M 1.5,0.13522287182617565 L 1.555570233019603,0.16853038769745532 L 1.6343932841636462,0.22698954663726367 L 1.7071067811865481,0.2928932188134531 L 1.7730104533627373,0.36560671583635507 L 1.8314696123025456,0.44442976698039827 L 1.8819212643483554,0.5286032631740027 L 1.923879532511287,0.6173165676349106 L 1.956940335732209,0.709715322745538 L 1.9807852804032304,0.8049096779838719 L 1.995184726672197,0.9019828596704395 L 2.0,1.0 L 2.0,1.0000000000000082 L 1.9951847266721963,1.0980171403295684 L 1.980785280403229,1.1950903220161357 L 1.9569403357322068,1.2902846772544692 L 1.923879532511284,1.3826834323650963 L 1.8819212643483518,1.4713967368260035 L 1.8314696123025418,1.5555702330196075 L 1.7730104533627333,1.6343932841636502 L 1.7071067811865435,1.7071067811865515 L 1.6343932841636415,1.7730104533627402 L 1.5555702330195982,1.831469612302548 L 1.4999999999999998,1.8647771281738246 L 1.5286032631740012,1.8819212643483545 L 1.6173165676349088,1.923879532511286 L 1.709715322745536,1.9569403357322084 L 1.8049096779838696,1.98078528040323 L 1.901982859670437,1.9951847266721967 L 1.9999999999999971,2.0 L 2.0980171403295573,1.9951847266721972 L 2.195090322016125,1.980785280403231 L 2.2902846772544585,1.95694033573221 L 2.382683432365086,1.9238795325112883 L 2.4713967368259935,1.8819212643483572 L 2.555570233019598,1.831469612302548 L 2.6343932841636413,1.7730104533627402 L 2.7071067811865435,1.7071067811865515 L 2.7730104533627333,1.6343932841636502 L 2.831469612302542,1.5555702330196075 L 2.881921264348352,1.4713967368260035 L 2.9238795325112843,1.3826834323650963 L 2.956940335732207,1.2902846772544692 L 2.980785280403229,1.1950903220161357 L 2.9951847266721963,1.0980171403295684 L 3.0,1.0000000000000082 L 3.0,1.0 L 2.995184726672197,0.9019828596704395 L 2.9807852804032304,0.8049096779838719 L 2.956940335732209,0.709715322745538 L 2.923879532511287,0.6173165676349106 L 2.8819212643483554,0.5286032631740027 L 2.831469612302546,0.44442976698039827 L 2.7730104533627373,0.36560671583635507 L 2.707106781186548,0.2928932188134531 L 2.634393284163646,0.22698954663726367 L 2.555570233019603,0.16853038769745532 L 2.471396736825999,0.1180787356516455 L 2.382683432365091,0.0761204674887137 L 2.290284677254464,0.04305966426779151 L 2.1950903220161297,0.01921471959676979 L 2.098017140329562,0.004815273327803293 L 2.0000000000000018,0.0 L 1.9019828596704411,0.00481527332780296 L 1.8049096779838736,0.019214719596769236 L 1.7097153227455395,0.04305966426779051 L 1.6173165676349122,0.07612046748871248 L 1.5286032631740043,0.11807873565164395 L 1.5,0.13522287182617565 z\" /><path fill-rule=\"evenodd\" fill=\"#66cc99\" stroke=\"#555555\" stroke-width=\"0.06480000000000001\" opacity=\"0.6\" d=\"M 1.5,0.13522287182617565 L 1.4713967368259986,0.1180787356516455 L 1.382683432365091,0.0761204674887137 L 1.2902846772544636,0.04305966426779151 L 1.1950903220161297,0.01921471959676979 L 1.098017140329562,0.004815273327803293 L 1.0000000000000016,0.0 L 0.9019828596704411,0.00481527332780296 L 0.8049096779838736,0.019214719596769236 L 0.7097153227455395,0.04305966426779051 L 0.6173165676349122,0.07612046748871248 L 0.5286032631740043,0.11807873565164395 L 0.4444297669803995,0.16853038769745365 L 0.36560671583635607,0.22698954663726179 L 0.29289321881345376,0.2928932188134511 L 0.22698954663726412,0.3656067158363532 L 0.16853038769745565,0.4444297669803964 L 0.11807873565164573,0.528603263174001 L 0.07612046748871382,0.6173165676349088 L 0.04305966426779151,0.7097153227455364 L 0.01921471959676979,0.8049096779838705 L 0.004815273327803182,0.9019828596704382 L 0.0,0.999999999999999 L 0.004815273327803071,1.0980171403295598 L 0.019214719596769347,1.1950903220161275 L 0.043059664267790954,1.2902846772544616 L 0.07612046748871304,1.3826834323650892 L 0.11807873565164473,1.4713967368259973 L 0.16853038769745454,1.555570233019602 L 0.2269895466372629,1.6343932841636453 L 0.2928932188134523,1.7071067811865475 L 0.36560671583635407,1.7730104533627367 L 0.44442976698039705,1.831469612302545 L 0.5286032631740013,1.8819212643483545 L 0.6173165676349088,1.923879532511286 L 0.709715322745536,1.9569403357322084 L 0.8049096779838696,1.98078528040323 L 0.9019828596704369,1.9951847266721967 L 0.9999999999999971,2.0 L 1.0980171403295573,1.9951847266721972 L 1.1950903220161249,1.980785280403231 L 1.2902846772544587,1.95694033573221 L 1.3826834323650858,1.9238795325112883 L 1.4713967368259937,1.8819212643483572 L 1.4999999999999998,1.8647771281738246 L 1.444429766980397,1.831469612302545 L 1.365606715836354,1.7730104533627367 L 1.2928932188134523,1.7071067811865475 L 1.226989546637263,1.6343932841636453 L 1.1685303876974547,1.555570233019602 L 1.1180787356516446,1.4713967368259973 L 1.076120467488713,1.3826834323650892 L 1.043059664267791,1.2902846772544616 L 1.0192147195967693,1.1950903220161275 L 1.004815273327803,1.0980171403295598 L 1.0,0.999999999999999 L 1.0048152733278033,0.9019828596704382 L 1.0192147195967698,0.8049096779838705 L 1.0430596642677914,0.7097153227455364 L 1.076120467488714,0.6173165676349088 L 1.1180787356516457,0.528603263174001 L 1.1685303876974555,0.4444297669803964 L 1.226989546637264,0.3656067158363532 L 1.2928932188134539,0.2928932188134511 L 1.365606715836356,0.22698954663726179 L 1.4444297669803996,0.16853038769745365 L 1.5,0.13522287182617565 z\" /></g></g></svg>"
      ],
      "text/plain": [
       "<MULTIPOLYGON (((1.5 0.135, 1.56 0.169, 1.63 0.227, 1.71 0.293, 1.77 0.366, ...>"
      ]
     },
     "execution_count": 46,
     "metadata": {},
     "output_type": "execute_result"
    }
   ],
   "source": [
    "# Operação de diferença simétrica\n",
    "circulo_diffsim = circulo1.symmetric_difference(circulo2)\n",
    "\n",
    "circulo_diffsim"
   ]
  }
 ],
 "metadata": {
  "kernelspec": {
   "display_name": "base",
   "language": "python",
   "name": "python3"
  },
  "language_info": {
   "codemirror_mode": {
    "name": "ipython",
    "version": 3
   },
   "file_extension": ".py",
   "mimetype": "text/x-python",
   "name": "python",
   "nbconvert_exporter": "python",
   "pygments_lexer": "ipython3",
   "version": "3.11.7"
  }
 },
 "nbformat": 4,
 "nbformat_minor": 2
}
