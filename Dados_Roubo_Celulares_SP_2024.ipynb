{
 "cells": [
  {
   "cell_type": "markdown",
   "metadata": {},
   "source": [
    "# Roubos de celular na cidade de São Paulo\n",
    "\n",
    "Nesse notebook, vamos filtrar e tratar os dados de roubos de celulares ocorridos na cidade de São Paulo, utilizando Jupyter e GeoPandas"
   ]
  }
 ],
 "metadata": {
  "language_info": {
   "name": "python"
  }
 },
 "nbformat": 4,
 "nbformat_minor": 2
}
